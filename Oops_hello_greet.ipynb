{
 "cells": [
  {
   "cell_type": "markdown",
   "id": "0e7e7b42",
   "metadata": {},
   "source": [
    "Add a stiatic method in calculator to greet the user with hello"
   ]
  },
  {
   "cell_type": "code",
   "execution_count": 1,
   "id": "a0495c72",
   "metadata": {},
   "outputs": [
    {
     "name": "stdout",
     "output_type": "stream",
     "text": [
      "Hello...Welcome to the best calculator of the world\n",
      "The value of 6 square is 36\n",
      "The value of 6 square root is 2.449489742783178\n",
      "The value of 6 cube is 216\n"
     ]
    }
   ],
   "source": [
    "class Calculator:\n",
    "    def __init__(self, num):\n",
    "        self.number = num\n",
    "\n",
    "    def square(self):\n",
    "        print(f\"The value of {self.number} square is {self.number **2}\")\n",
    "\n",
    "    def squareRoot(self):\n",
    "        print(f\"The value of {self.number} square root is {self.number **0.5}\")\n",
    "\n",
    "    def cube(self):\n",
    "        print(f\"The value of {self.number} cube is {self.number **3}\")\n",
    "    @staticmethod\n",
    "    def greet():\n",
    "        print(\"*****Hello...Welcome to the best calculator of the world******\")\n",
    "a = Calculator(6)\n",
    "a.greet()\n",
    "a.square()\n",
    "a.squareRoot() \n",
    "a.cube()"
   ]
  },
  {
   "cell_type": "code",
   "execution_count": null,
   "id": "3508e44d",
   "metadata": {},
   "outputs": [],
   "source": []
  }
 ],
 "metadata": {
  "kernelspec": {
   "display_name": "Python 3 (ipykernel)",
   "language": "python",
   "name": "python3"
  },
  "language_info": {
   "codemirror_mode": {
    "name": "ipython",
    "version": 3
   },
   "file_extension": ".py",
   "mimetype": "text/x-python",
   "name": "python",
   "nbconvert_exporter": "python",
   "pygments_lexer": "ipython3",
   "version": "3.9.7"
  }
 },
 "nbformat": 4,
 "nbformat_minor": 5
}
